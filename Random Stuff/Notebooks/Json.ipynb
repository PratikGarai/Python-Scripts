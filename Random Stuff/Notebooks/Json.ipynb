{
 "cells": [
  {
   "cell_type": "code",
   "execution_count": 1,
   "metadata": {},
   "outputs": [],
   "source": [
    "import json"
   ]
  },
  {
   "cell_type": "code",
   "execution_count": 7,
   "metadata": {},
   "outputs": [],
   "source": [
    "data ={\n",
    "    \"First\" : {\n",
    "        \n",
    "    \"name\":\"Pratik\",\n",
    "    \"subjects\":['CSE','Maths']\n",
    "}\n",
    "}"
   ]
  },
  {
   "cell_type": "code",
   "execution_count": 8,
   "metadata": {},
   "outputs": [
    {
     "data": {
      "text/plain": [
       "{'First': {'name': 'Pratik', 'subjects': ['CSE', 'Maths']}}"
      ]
     },
     "execution_count": 8,
     "metadata": {},
     "output_type": "execute_result"
    }
   ],
   "source": [
    "data"
   ]
  },
  {
   "cell_type": "code",
   "execution_count": 9,
   "metadata": {},
   "outputs": [],
   "source": [
    "with open('json_file.json','w+') as wf:\n",
    "    json.dump(data,wf)"
   ]
  },
  {
   "cell_type": "code",
   "execution_count": 13,
   "metadata": {},
   "outputs": [],
   "source": [
    "string = json.dumps(data,indent = 4)"
   ]
  },
  {
   "cell_type": "code",
   "execution_count": 15,
   "metadata": {},
   "outputs": [
    {
     "name": "stdout",
     "output_type": "stream",
     "text": [
      "{\n",
      "    \"First\": {\n",
      "        \"name\": \"Pratik\",\n",
      "        \"subjects\": [\n",
      "            \"CSE\",\n",
      "            \"Maths\"\n",
      "        ]\n",
      "    }\n",
      "}\n"
     ]
    }
   ],
   "source": [
    "print(string)"
   ]
  },
  {
   "cell_type": "code",
   "execution_count": 16,
   "metadata": {},
   "outputs": [],
   "source": [
    "ls = json.loads(string)"
   ]
  },
  {
   "cell_type": "code",
   "execution_count": 17,
   "metadata": {},
   "outputs": [
    {
     "name": "stdout",
     "output_type": "stream",
     "text": [
      "<class 'str'>\n",
      "<class 'dict'>\n"
     ]
    }
   ],
   "source": [
    "print(type(string))\n",
    "print(type(ls))"
   ]
  },
  {
   "cell_type": "code",
   "execution_count": 20,
   "metadata": {},
   "outputs": [],
   "source": [
    "lf = json.load(open('json_file.json','r'))"
   ]
  },
  {
   "cell_type": "code",
   "execution_count": 21,
   "metadata": {},
   "outputs": [
    {
     "data": {
      "text/plain": [
       "dict"
      ]
     },
     "execution_count": 21,
     "metadata": {},
     "output_type": "execute_result"
    }
   ],
   "source": [
    "type(lf)"
   ]
  },
  {
   "cell_type": "code",
   "execution_count": 22,
   "metadata": {},
   "outputs": [
    {
     "data": {
      "text/plain": [
       "{'First': {'name': 'Pratik', 'subjects': ['CSE', 'Maths']}}"
      ]
     },
     "execution_count": 22,
     "metadata": {},
     "output_type": "execute_result"
    }
   ],
   "source": [
    "lf"
   ]
  },
  {
   "cell_type": "code",
   "execution_count": 40,
   "metadata": {},
   "outputs": [],
   "source": [
    "class Elf:\n",
    "    num = 0\n",
    "    def __init__(self,atk=10,mag=10,hp=10):\n",
    "        Elf.num += 1\n",
    "        self.atk = atk\n",
    "        self.mag = mag\n",
    "        self.hp = hp\n",
    "        self.id = Elf.num\n",
    "    \n",
    "    def todict(self):\n",
    "        return {'id': self.id,'atk':self.atk,'mag':self.mag,'hp':self.hp}\n",
    "    "
   ]
  },
  {
   "cell_type": "code",
   "execution_count": 41,
   "metadata": {},
   "outputs": [],
   "source": [
    "lis = []\n",
    "lis.append(Elf())\n",
    "lis.append(Elf(15,15,15))"
   ]
  },
  {
   "cell_type": "code",
   "execution_count": 53,
   "metadata": {},
   "outputs": [],
   "source": [
    "with open('json_example1.json','w') as fl:\n",
    "    for i in lis:\n",
    "        json.dump(i.todict(),fl)\n",
    "        fl.write(\"\\n\")"
   ]
  },
  {
   "cell_type": "code",
   "execution_count": 54,
   "metadata": {},
   "outputs": [
    {
     "name": "stdout",
     "output_type": "stream",
     "text": [
      "{\"id\": 1, \"atk\": 10, \"mag\": 10, \"hp\": 10}\n",
      "{\"id\": 2, \"atk\": 15, \"mag\": 15, \"hp\": 15}\n",
      "\n"
     ]
    }
   ],
   "source": [
    "with open('json_example1.json','r') as fl:\n",
    "    print(fl.read())"
   ]
  },
  {
   "cell_type": "code",
   "execution_count": 55,
   "metadata": {},
   "outputs": [],
   "source": [
    "def todict(sel):\n",
    "        return {'id': sel.id,'atk':sel.atk,'mag':sel.mag,'hp':sel.hp}"
   ]
  },
  {
   "cell_type": "code",
   "execution_count": 57,
   "metadata": {},
   "outputs": [],
   "source": [
    "with open('json_example2.json','w') as fl:\n",
    "    for i in lis:\n",
    "        json.dump(i,fl,default=todict)\n",
    "        fl.write(\"\\n\")"
   ]
  },
  {
   "cell_type": "code",
   "execution_count": 60,
   "metadata": {},
   "outputs": [
    {
     "name": "stdout",
     "output_type": "stream",
     "text": [
      "{\"id\": 1, \"atk\": 10, \"mag\": 10, \"hp\": 10}\n",
      "{\"id\": 2, \"atk\": 15, \"mag\": 15, \"hp\": 15}\n",
      "\n"
     ]
    }
   ],
   "source": [
    "with open('json_example2.json','r') as fl:\n",
    "    print(fl.read())"
   ]
  },
  {
   "cell_type": "code",
   "execution_count": null,
   "metadata": {},
   "outputs": [],
   "source": []
  }
 ],
 "metadata": {
  "kernelspec": {
   "display_name": "Python 3",
   "language": "python",
   "name": "python3"
  },
  "language_info": {
   "codemirror_mode": {
    "name": "ipython",
    "version": 3
   },
   "file_extension": ".py",
   "mimetype": "text/x-python",
   "name": "python",
   "nbconvert_exporter": "python",
   "pygments_lexer": "ipython3",
   "version": "3.8.2"
  }
 },
 "nbformat": 4,
 "nbformat_minor": 4
}
